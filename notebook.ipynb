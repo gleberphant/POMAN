{
 "cells": [
  {
   "cell_type": "markdown",
   "id": "c15f7baf",
   "metadata": {},
   "source": [
    "# 2) Em uma turma de 40 estudantes, foi pedido que escolhessem um número da seguinte relação: 0, 1, 2, 3, 4, 5, 6, 7, 8 e 9, obtendo-se o seguinte resultado:\n",
    "\n",
    "8-0-2-3-3-5-7-7-7-9-8-4-1-9-6-6-6-8-3-3-7-7-6-0-1-3-3-3-7-7-6-5-5-1-2-5-2-5-3-2.\n",
    "\n",
    "A partir da distribuição de frequência, determine:"
   ]
  },
  {
   "cell_type": "code",
   "execution_count": 22,
   "id": "8cf3e80d",
   "metadata": {},
   "outputs": [
    {
     "name": "stdout",
     "output_type": "stream",
     "text": [
      "Total de observações (n): 40\n",
      "\n",
      "       fi (Absoluta)  Fi (Abs. Acumulada)  fr (Relativa)  Fr (Rel. Acumulada)  fr (%)   Fr (%)\n",
      "Valor                                                                                         \n",
      "0                  2                    2          0.050                0.050   5.00%    5.00%\n",
      "1                  3                    5          0.075                0.125   7.50%   12.50%\n",
      "2                  4                    9          0.100                0.225  10.00%   22.50%\n",
      "3                  8                   17          0.200                0.425  20.00%   42.50%\n",
      "4                  1                   18          0.025                0.450   2.50%   45.00%\n",
      "5                  5                   23          0.125                0.575  12.50%   57.50%\n",
      "6                  5                   28          0.125                0.700  12.50%   70.00%\n",
      "7                  7                   35          0.175                0.875  17.50%   87.50%\n",
      "8                  3                   38          0.075                0.950   7.50%   95.00%\n",
      "9                  2                   40          0.050                1.000   5.00%  100.00%\n"
     ]
    }
   ],
   "source": [
    "import pandas as pd\n",
    "\n",
    "# Seus dados\n",
    "data = [8, 0, 2, 3, 3, 5, 7, 7, 7, 9, 8, 4, 1, 9, 6, 6, 6, 8, 3, 3, 7, 7, 6, 0, 1, 3, 3, 3, 7, 7, 6, 5, 5, 1, 2, 5, 2, 5, 3, 2]\n",
    "serie = pd.Series(data)\n",
    "\n",
    "# Total de observações\n",
    "n = len(serie)\n",
    "print(f\"Total de observações (n): {n}\\n\")\n",
    "\n",
    "# 1. Calcular Frequência Absoluta (fi)\n",
    "#    É crucial usar .sort_index() para que os valores fiquem ordenados,\n",
    "#    permitindo o cálculo correto das frequências acumuladas.\n",
    "fi = serie.value_counts().sort_index()\n",
    "\n",
    "# 2. Criar o DataFrame inicial com 'fi'\n",
    "#    O índice do DataFrame serão os próprios valores únicos da série.\n",
    "df_freq = pd.DataFrame({'fi (Absoluta)': fi})\n",
    "df_freq.index.name = 'Valor' # Define o nome da coluna do índice\n",
    "\n",
    "# 3. Calcular Frequência Absoluta Acumulada (Fi)\n",
    "#    Usa-se cumsum() (cumulative sum) sobre a frequência absoluta (fi).\n",
    "df_freq['Fi (Abs. Acumulada)'] = df_freq['fi (Absoluta)'].cumsum()\n",
    "\n",
    "# 4. Calcular Frequência Relativa (fr)\n",
    "#    Divide cada frequência absoluta (fi) pelo total de observações (n).\n",
    "df_freq['fr (Relativa)'] = df_freq['fi (Absoluta)'] / n\n",
    "\n",
    "# 5. Calcular Frequência Relativa Acumulada (Fr)\n",
    "#    Usa-se cumsum() sobre a frequência relativa (fr).\n",
    "df_freq['Fr (Rel. Acumulada)'] = df_freq['fr (Relativa)'].cumsum()\n",
    "\n",
    "# 6. (Opcional) Formatar frequências relativas como percentual para melhor leitura\n",
    "df_freq['fr (%)'] = (df_freq['fr (Relativa)'] * 100).map('{:.2f}%'.format)\n",
    "df_freq['Fr (%)'] = (df_freq['Fr (Rel. Acumulada)'] * 100).map('{:.2f}%'.format)\n",
    "\n",
    "\n",
    "# Exibir a tabela de frequência completa\n",
    "# Usar to_string() para garantir que o pandas mostre todas as colunas no console\n",
    "print(df_freq.to_string())"
   ]
  }
 ],
 "metadata": {
  "kernelspec": {
   "display_name": ".venv",
   "language": "python",
   "name": "python3"
  },
  "language_info": {
   "codemirror_mode": {
    "name": "ipython",
    "version": 3
   },
   "file_extension": ".py",
   "mimetype": "text/x-python",
   "name": "python",
   "nbconvert_exporter": "python",
   "pygments_lexer": "ipython3",
   "version": "3.13.3"
  }
 },
 "nbformat": 4,
 "nbformat_minor": 5
}
